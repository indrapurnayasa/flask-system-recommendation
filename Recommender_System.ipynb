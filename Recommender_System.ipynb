{
 "cells": [
  {
   "cell_type": "code",
   "execution_count": 1,
   "metadata": {},
   "outputs": [
    {
     "data": {
      "text/plain": [
       "<sqlite3.Cursor at 0x12098e340>"
      ]
     },
     "execution_count": 1,
     "metadata": {},
     "output_type": "execute_result"
    }
   ],
   "source": [
    "import sqlite3\n",
    "\n",
    "# Koneksi ke SQLite database (atau membuat database baru)\n",
    "conn = sqlite3.connect('dummy_data.db')\n",
    "cursor = conn.cursor()\n",
    "\n",
    "# Membuat tabel transaksi\n",
    "cursor.execute('''\n",
    "CREATE TABLE IF NOT EXISTS transaksi (\n",
    "    id INTEGER PRIMARY KEY AUTOINCREMENT,\n",
    "    account_number TEXT,\n",
    "    merchant_name TEXT,\n",
    "    category TEXT,\n",
    "    date TEXT\n",
    ")\n",
    "''')\n",
    "\n",
    "# Membuat tabel promo\n",
    "cursor.execute('''\n",
    "CREATE TABLE IF NOT EXISTS promo (\n",
    "    id INTEGER PRIMARY KEY AUTOINCREMENT,\n",
    "    nama_promo TEXT,\n",
    "    category TEXT,\n",
    "    merchant TEXT\n",
    ")\n",
    "''')\n"
   ]
  },
  {
   "cell_type": "code",
   "execution_count": 14,
   "metadata": {},
   "outputs": [],
   "source": [
    "# Execute the DELETE statement\n",
    "cursor.execute(\"DELETE FROM promo WHERE id BETWEEN 6 AND 10\")\n",
    "\n",
    "# Commit the changes\n",
    "conn.commit()"
   ]
  },
  {
   "cell_type": "code",
   "execution_count": 15,
   "metadata": {},
   "outputs": [],
   "source": [
    "# Data transaksi dummy\n",
    "transaksi_data = [\n",
    "    ('100013129837', 'kopi kenangan', 'minuman', '2024-08-01'),\n",
    "    ('100013129837', 'fore coffee', 'minuman', '2024-08-02'),\n",
    "    ('100013129837', 'pulsa telkomsel', 'tagihan', '2024-08-03'),\n",
    "    ('100013129837', 'cuci mobil andi', 'transportasi', '2024-08-04'),\n",
    "    ('100013129837', 'bengkel mamad', 'transportasi', '2024-08-05'),\n",
    "    ('100013129837', 'kopi kenangan', 'minuman', '2024-08-06'),\n",
    "    ('100013129837', 'flash coffee', 'minuman', '2024-08-07'),\n",
    "    ('109010231029', 'kopi kenangan', 'minuman', '2024-08-01'),\n",
    "    ('109010231029', 'pulsa telkomsel', 'tagihan', '2024-08-02'),\n",
    "    ('109010231029', 'cuci mobil andi', 'transportasi', '2024-08-03'),\n",
    "    ('109010231029', 'fore coffee', 'minuman', '2024-08-04'),\n",
    "    ('109010231029', 'bengkel mamad', 'transportasi', '2024-08-05'),\n",
    "    ('109010231029', 'kopi kenangan', 'minuman', '2024-08-06'),\n",
    "    ('109010231029', 'flash coffee', 'minuman', '2024-08-07'),\n",
    "    ('109010231029', 'flash coffee', 'minuman', '2024-08-08'),\n",
    "    ('100013129837', 'cuci mobil andi', 'transportasi', '2024-08-04'),\n",
    "    ('100013129837', 'bengkel mamad', 'transportasi', '2024-08-05'),\n",
    "    ('100013129837', 'kopi kenangan', 'minuman', '2024-08-06'),\n",
    "    ('100013129837', 'kopi kenangan', 'minuman', '2024-08-07'),\n",
    "    ('109010231029', 'pulsa telkomsel', 'tagihan', '2024-08-02'),\n",
    "    ('109010231029', 'cuci mobil andi', 'transportasi', '2024-08-03')\n",
    "]\n",
    "\n",
    "\n",
    "# Memasukkan data ke tabel transaksi\n",
    "cursor.executemany('''\n",
    "INSERT INTO transaksi (account_number, merchant_name, category, date)\n",
    "VALUES (?, ?, ?, ?)\n",
    "''', transaksi_data)\n",
    "\n",
    "conn.commit()\n"
   ]
  },
  {
   "cell_type": "code",
   "execution_count": 16,
   "metadata": {},
   "outputs": [],
   "source": [
    "# Data promo dummy\n",
    "promo_data = [\n",
    "    ('Promo Diskon Minuman', 'minuman', 'kopi kenangan'),\n",
    "    ('Promo Buy 1 Get 1 Minuman', 'minuman', 'fore coffee'),\n",
    "    ('Promo Pulsa Murah', 'tagihan', 'pulsa telkomsel'),\n",
    "    ('Promo Cuci Mobil Hemat', 'transportasi', 'cuco mobil andi'),\n",
    "    ('Promo Ganti Oli Gratis', 'transportasi', 'bengkel mamad'),\n",
    "    ('Promo Diskon 20%', 'minuman', 'sakara kopi bali'),\n",
    "    ('Promo TGIF', 'minuman', 'starbucks'),\n",
    "    ('Promo Buy 2 Get 3', 'minuman', 'tomoro coffee'),\n",
    "]\n",
    "\n",
    "# Memasukkan data ke tabel promo\n",
    "cursor.executemany('''\n",
    "INSERT INTO promo (nama_promo, category, merchant)\n",
    "VALUES (?, ?, ?)\n",
    "''', promo_data)\n",
    "\n",
    "conn.commit()\n"
   ]
  },
  {
   "cell_type": "code",
   "execution_count": 2,
   "metadata": {},
   "outputs": [
    {
     "name": "stdout",
     "output_type": "stream",
     "text": [
      "Data Transaksi:\n",
      "(1, '100013129837', 'kopi kenangan', 'minuman', '2024-08-01')\n",
      "(2, '100013129837', 'fore coffee', 'minuman', '2024-08-02')\n",
      "(3, '100013129837', 'pulsa telkomsel', 'tagihan', '2024-08-03')\n",
      "(4, '100013129837', 'cuci mobil andi', 'transportasi', '2024-08-04')\n",
      "(5, '100013129837', 'bengkel mamad', 'transportasi', '2024-08-05')\n",
      "(6, '100013129837', 'kopi kenangan', 'minuman', '2024-08-06')\n",
      "(7, '100013129837', 'flash coffee', 'minuman', '2024-08-07')\n",
      "(8, '109010231029', 'kopi kenangan', 'minuman', '2024-08-01')\n",
      "(9, '109010231029', 'pulsa telkomsel', 'tagihan', '2024-08-02')\n",
      "(10, '109010231029', 'cuci mobil andi', 'transportasi', '2024-08-03')\n",
      "(11, '109010231029', 'fore coffee', 'minuman', '2024-08-04')\n",
      "(12, '109010231029', 'bengkel mamad', 'transportasi', '2024-08-05')\n",
      "(13, '109010231029', 'kopi kenangan', 'minuman', '2024-08-06')\n",
      "(14, '109010231029', 'flash coffee', 'minuman', '2024-08-07')\n",
      "(15, '109010231029', 'flash coffee', 'minuman', '2024-08-08')\n",
      "(16, '100013129837', 'cuci mobil andi', 'transportasi', '2024-08-04')\n",
      "(17, '100013129837', 'bengkel mamad', 'transportasi', '2024-08-05')\n",
      "(18, '100013129837', 'kopi kenangan', 'minuman', '2024-08-06')\n",
      "(19, '100013129837', 'kopi kenangan', 'minuman', '2024-08-07')\n",
      "(20, '109010231029', 'pulsa telkomsel', 'tagihan', '2024-08-02')\n",
      "(21, '109010231029', 'cuci mobil andi', 'transportasi', '2024-08-03')\n",
      "\n",
      "Data Promo:\n",
      "(1, 'Promo Diskon Minuman', 'minuman', 'kopi kenangan')\n",
      "(2, 'Promo Buy 1 Get 1 Minuman', 'minuman', 'fore coffee')\n",
      "(3, 'Promo Pulsa Murah', 'tagihan', 'pulsa telkomsel')\n",
      "(4, 'Promo Cuci Mobil Hemat', 'transportasi', 'cuco mobil andi')\n",
      "(5, 'Promo Ganti Oli Gratis', 'transportasi', 'bengkel mamad')\n",
      "(6, 'Promo Diskon 20%', 'minuman', 'sakara kopi bali')\n",
      "(7, 'Promo TGIF', 'minuman', 'starbucks')\n",
      "(8, 'Promo Buy 2 Get 3', 'minuman', 'tomoro coffee')\n"
     ]
    }
   ],
   "source": [
    "# Mengecek data transaksi\n",
    "cursor.execute('SELECT * FROM transaksi')\n",
    "transaksi_records = cursor.fetchall()\n",
    "print(\"Data Transaksi:\")\n",
    "for row in transaksi_records:\n",
    "    print(row)\n",
    "\n",
    "# Mengecek data promo\n",
    "cursor.execute('SELECT * FROM promo')\n",
    "promo_records = cursor.fetchall()\n",
    "print(\"\\nData Promo:\")\n",
    "for row in promo_records:\n",
    "    print(row)\n",
    "\n",
    "# Menutup koneksi\n",
    "conn.close()\n"
   ]
  },
  {
   "cell_type": "markdown",
   "metadata": {},
   "source": [
    "**Setup: Koneksi ke SQLite dan Ambil Data**"
   ]
  },
  {
   "cell_type": "code",
   "execution_count": 3,
   "metadata": {},
   "outputs": [],
   "source": [
    "import sqlite3\n",
    "import pandas as pd\n",
    "from sklearn.feature_extraction.text import TfidfVectorizer\n",
    "from sklearn.metrics.pairwise import cosine_similarity\n",
    "\n",
    "# Koneksi ke SQLite database\n",
    "conn = sqlite3.connect('dummy_data.db')\n",
    "cursor = conn.cursor()\n",
    "\n",
    "# Mengambil data transaksi\n",
    "transaksi_df = pd.read_sql_query('SELECT * FROM transaksi', conn)\n",
    "transaksi_df\n",
    "\n",
    "# Mengambil data promo\n",
    "promo_df = pd.read_sql_query('SELECT * FROM promo', conn)\n",
    "\n"
   ]
  },
  {
   "cell_type": "markdown",
   "metadata": {},
   "source": [
    "**Rule-Based Filtering: Menghitung Frekuensi Transaksi per Merchant**"
   ]
  },
  {
   "cell_type": "code",
   "execution_count": 4,
   "metadata": {},
   "outputs": [],
   "source": [
    "# Menghitung frekuensi transaksi per merchant untuk setiap user\n",
    "merchant_freq = transaksi_df.groupby(['account_number', 'merchant_name']).size().reset_index(name='freq')\n",
    "\n",
    "# Mendapatkan merchant dengan frekuensi tertinggi untuk setiap user\n",
    "def get_top_merchant(account_number, merchant_freq):\n",
    "    user_merchant_freq = merchant_freq[merchant_freq['account_number'] == account_number]\n",
    "    if not user_merchant_freq.empty:\n",
    "        return user_merchant_freq.sort_values(by='freq', ascending=False).iloc[0]['merchant_name']\n",
    "    return None\n"
   ]
  },
  {
   "cell_type": "markdown",
   "metadata": {},
   "source": [
    "**Implementasi Rekomendasi dengan Rule-Based dan Fallback**"
   ]
  },
  {
   "cell_type": "code",
   "execution_count": 5,
   "metadata": {},
   "outputs": [
    {
     "name": "stdout",
     "output_type": "stream",
     "text": [
      "Promo dari cuci mobil andi: []\n",
      "Kategori user: ['minuman' 'tagihan' 'transportasi']\n",
      "Promo dari kategori yang sama: [{'id': 1, 'nama_promo': 'Promo Diskon Minuman', 'category': 'minuman', 'merchant': 'kopi kenangan'}, {'id': 2, 'nama_promo': 'Promo Buy 1 Get 1 Minuman', 'category': 'minuman', 'merchant': 'fore coffee'}, {'id': 3, 'nama_promo': 'Promo Pulsa Murah', 'category': 'tagihan', 'merchant': 'pulsa telkomsel'}, {'id': 4, 'nama_promo': 'Promo Cuci Mobil Hemat', 'category': 'transportasi', 'merchant': 'cuco mobil andi'}, {'id': 5, 'nama_promo': 'Promo Ganti Oli Gratis', 'category': 'transportasi', 'merchant': 'bengkel mamad'}, {'id': 6, 'nama_promo': 'Promo Diskon 20%', 'category': 'minuman', 'merchant': 'sakara kopi bali'}, {'id': 7, 'nama_promo': 'Promo TGIF', 'category': 'minuman', 'merchant': 'starbucks'}, {'id': 8, 'nama_promo': 'Promo Buy 2 Get 3', 'category': 'minuman', 'merchant': 'tomoro coffee'}]\n",
      "Rekomendasi untuk user1:\n",
      "   id                 nama_promo      category          merchant\n",
      "0   1       Promo Diskon Minuman       minuman     kopi kenangan\n",
      "1   2  Promo Buy 1 Get 1 Minuman       minuman       fore coffee\n",
      "2   3          Promo Pulsa Murah       tagihan   pulsa telkomsel\n",
      "3   4     Promo Cuci Mobil Hemat  transportasi   cuco mobil andi\n",
      "4   5     Promo Ganti Oli Gratis  transportasi     bengkel mamad\n",
      "5   6           Promo Diskon 20%       minuman  sakara kopi bali\n",
      "6   7                 Promo TGIF       minuman         starbucks\n",
      "7   8          Promo Buy 2 Get 3       minuman     tomoro coffee\n",
      "Promo dari kopi kenangan: [{'id': 1, 'nama_promo': 'Promo Diskon Minuman', 'category': 'minuman', 'merchant': 'kopi kenangan'}]\n",
      "Kategori user: ['minuman' 'tagihan' 'transportasi']\n",
      "Promo dari kategori yang sama: [{'id': 1, 'nama_promo': 'Promo Diskon Minuman', 'category': 'minuman', 'merchant': 'kopi kenangan'}, {'id': 2, 'nama_promo': 'Promo Buy 1 Get 1 Minuman', 'category': 'minuman', 'merchant': 'fore coffee'}, {'id': 3, 'nama_promo': 'Promo Pulsa Murah', 'category': 'tagihan', 'merchant': 'pulsa telkomsel'}, {'id': 4, 'nama_promo': 'Promo Cuci Mobil Hemat', 'category': 'transportasi', 'merchant': 'cuco mobil andi'}, {'id': 5, 'nama_promo': 'Promo Ganti Oli Gratis', 'category': 'transportasi', 'merchant': 'bengkel mamad'}, {'id': 6, 'nama_promo': 'Promo Diskon 20%', 'category': 'minuman', 'merchant': 'sakara kopi bali'}, {'id': 7, 'nama_promo': 'Promo TGIF', 'category': 'minuman', 'merchant': 'starbucks'}, {'id': 8, 'nama_promo': 'Promo Buy 2 Get 3', 'category': 'minuman', 'merchant': 'tomoro coffee'}]\n",
      "\n",
      "Rekomendasi untuk user2:\n",
      "   id                 nama_promo      category          merchant\n",
      "0   1       Promo Diskon Minuman       minuman     kopi kenangan\n",
      "1   2  Promo Buy 1 Get 1 Minuman       minuman       fore coffee\n",
      "2   3          Promo Pulsa Murah       tagihan   pulsa telkomsel\n",
      "3   4     Promo Cuci Mobil Hemat  transportasi   cuco mobil andi\n",
      "4   5     Promo Ganti Oli Gratis  transportasi     bengkel mamad\n",
      "5   6           Promo Diskon 20%       minuman  sakara kopi bali\n",
      "6   7                 Promo TGIF       minuman         starbucks\n",
      "7   8          Promo Buy 2 Get 3       minuman     tomoro coffee\n"
     ]
    }
   ],
   "source": [
    "def rekomendasi_promo(account_number, transaksi_df, promo_df, merchant_freq):\n",
    "    recommended_promos = []\n",
    "\n",
    "    # Langkah 1: Rule-Based Filtering\n",
    "    top_merchant = get_top_merchant(account_number, merchant_freq)\n",
    "    if top_merchant:\n",
    "        # Cari promo dari merchant dengan frekuensi tertinggi\n",
    "        promo_top_merchant = promo_df[promo_df['merchant'] == top_merchant]\n",
    "        recommended_promos.extend(promo_top_merchant.to_dict('records'))\n",
    "        print(f\"Promo dari {top_merchant}: {promo_top_merchant.to_dict('records')}\")\n",
    "\n",
    "    # Langkah 2: Jika promo dari merchant tertinggi tidak cukup, cari promo lain dalam kategori yang sama\n",
    "    user_categories = transaksi_df[transaksi_df['account_number'] == account_number]['category'].unique()\n",
    "    print(f\"Kategori user: {user_categories}\")\n",
    "    promo_same_category = promo_df[promo_df['category'].isin(user_categories)]\n",
    "    print(f\"Promo dari kategori yang sama: {promo_same_category.to_dict('records')}\")\n",
    "    recommended_promos.extend(promo_same_category.to_dict('records'))\n",
    "\n",
    "    # Langkah 3: Fallback ke Content-Based Filtering jika diperlukan\n",
    "    if len(recommended_promos) < 3:  # contoh threshold minimal 3 promo\n",
    "        transaksi_df['combined_features'] = transaksi_df['category'] + \" \" + transaksi_df['merchant_name']\n",
    "        promo_df['combined_features'] = promo_df['category'] + \" \" + promo_df['merchant']\n",
    "\n",
    "        vectorizer = TfidfVectorizer()\n",
    "        tfidf_transaksi = vectorizer.fit_transform(transaksi_df['combined_features'])\n",
    "        tfidf_promo = vectorizer.fit_transform(promo_df['combined_features'])\n",
    "\n",
    "        user_index = transaksi_df.index[transaksi_df['account_number'] == account_number].tolist()\n",
    "        user_similarities = cosine_similarity(tfidf_transaksi[user_index], tfidf_promo)\n",
    "        avg_similarity = user_similarities.mean(axis=0)\n",
    "\n",
    "        rekomendasi_df = pd.DataFrame({\n",
    "            'nama_promo': promo_df['nama_promo'],\n",
    "            'category': promo_df['category'],\n",
    "            'merchant': promo_df['merchant'],\n",
    "            'similarity': avg_similarity\n",
    "        }).sort_values(by='similarity', ascending=False)\n",
    "        \n",
    "        recommended_promos.extend(rekomendasi_df.head(3).to_dict('records'))  # contoh menambahkan hingga 3 promo lagi\n",
    "    \n",
    "    # Menghapus duplikasi\n",
    "    recommended_promos = pd.DataFrame(recommended_promos).drop_duplicates().to_dict('records')\n",
    "    \n",
    "    return pd.DataFrame(recommended_promos)\n",
    "\n",
    "\n",
    "# Contoh penggunaan untuk user1\n",
    "rekomendasi_user1 = rekomendasi_promo('109010231029', transaksi_df, promo_df, merchant_freq)\n",
    "print(\"Rekomendasi untuk user1:\")\n",
    "print(rekomendasi_user1)\n",
    "\n",
    "# Contoh penggunaan untuk user2\n",
    "rekomendasi_user2 = rekomendasi_promo('100013129837', transaksi_df, promo_df, merchant_freq)\n",
    "print(\"\\nRekomendasi untuk user2:\")\n",
    "print(rekomendasi_user2)\n"
   ]
  },
  {
   "cell_type": "code",
   "execution_count": 76,
   "metadata": {},
   "outputs": [],
   "source": [
    "# Execute a SELECT query\n",
    "cursor.execute(\"SELECT * FROM transaksi where account_number = '109010231029' and category = 'minuman'\")\n",
    "\n",
    "# Fetch all rows from the result set\n",
    "rows = cursor.fetchall()\n",
    "\n",
    "# Print the rows\n",
    "for row in rows:\n",
    "    print(row)"
   ]
  },
  {
   "cell_type": "code",
   "execution_count": 75,
   "metadata": {},
   "outputs": [],
   "source": [
    "# Define the ID and account number\n",
    "id_to_remove = 8\n",
    "account_number_to_remove = '109010231029'\n",
    "\n",
    "# Execute the DELETE statement\n",
    "cursor.execute(\"DELETE FROM transaksi WHERE id = ? AND account_number = ?\", (id_to_remove, account_number_to_remove))\n",
    "\n",
    "# Commit the changes\n",
    "conn.commit()"
   ]
  }
 ],
 "metadata": {
  "kernelspec": {
   "display_name": "testEnv",
   "language": "python",
   "name": "python3"
  },
  "language_info": {
   "codemirror_mode": {
    "name": "ipython",
    "version": 3
   },
   "file_extension": ".py",
   "mimetype": "text/x-python",
   "name": "python",
   "nbconvert_exporter": "python",
   "pygments_lexer": "ipython3",
   "version": "3.10.14"
  }
 },
 "nbformat": 4,
 "nbformat_minor": 2
}
