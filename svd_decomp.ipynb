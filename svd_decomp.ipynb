{
 "cells": [
  {
   "cell_type": "code",
   "execution_count": 1,
   "metadata": {},
   "outputs": [
    {
     "name": "stdout",
     "output_type": "stream",
     "text": [
      "                     id   accountId   amount                 date  \\\n",
      "0     BNI_ACC_17_TRAN_1  BNI_ACC_17   351500  12/01/2023 00:00:00   \n",
      "1    BNI_ACC_17_TRAN_10  BNI_ACC_17   500000  12/01/2023 00:00:00   \n",
      "2   BNI_ACC_17_TRAN_100  BNI_ACC_17  2200000  12/01/2023 00:00:00   \n",
      "3  BNI_ACC_17_TRAN_1000  BNI_ACC_17   300000  12/01/2023 00:00:00   \n",
      "4  BNI_ACC_17_TRAN_1001  BNI_ACC_17  1499000  12/01/2023 00:00:00   \n",
      "\n",
      "   personeticsMCC channel clientTransactionType  \\\n",
      "0              26  Mobile   TRANSFER_ANTAR_BANK   \n",
      "1              26  Mobile   TRANSFER_ANTAR_BANK   \n",
      "2            8999  Mobile   TRANSFER_ANTAR_BANK   \n",
      "3              26  Mobile   TRANSFER_ANTAR_BANK   \n",
      "4              26  Mobile   TRANSFER_ANTAR_BANK   \n",
      "\n",
      "                     description                       deviceId direction  \\\n",
      "0                SPP anak Gilang                SPP ANAK GILANG         D   \n",
      "1               Bayar Myrepublic               BAYAR MYREPUBLIC         D   \n",
      "2                  Gaji desember                  GAJI DESEMBER         D   \n",
      "3  Renov Masjid Kantor PP PERSIS  RENOV MASJID KANTOR PP PERSIS         D   \n",
      "4                         Kantin                         KANTIN         D   \n",
      "\n",
      "     Category Name     category  uang keluar                 desc_processed  \\\n",
      "0  Other transfers  Uang Keluar            1                spp anak gilang   \n",
      "1  Other transfers  Uang Keluar            1               bayar myrepublic   \n",
      "2  Office expenses      Belanja            0                  gaji desember   \n",
      "3  Other transfers  Uang Keluar            1  renov masjid kantor pp persis   \n",
      "4  Other transfers  Uang Keluar            1                         kantin   \n",
      "\n",
      "   category_harusnya  \n",
      "0         Pendidikan  \n",
      "1            Tagihan  \n",
      "2        Uang Keluar  \n",
      "3        Uang Keluar  \n",
      "4  Makanan & Minuman  \n"
     ]
    }
   ],
   "source": [
    "import pandas as pd\n",
    "\n",
    "# Load the CSV file\n",
    "data = pd.read_csv('data-dummy.csv')\n",
    "\n",
    "# Display the first few rows\n",
    "print(data.head())\n"
   ]
  },
  {
   "cell_type": "code",
   "execution_count": 2,
   "metadata": {},
   "outputs": [],
   "source": [
    "# Assuming 'accountId' as user and 'category' as product\n",
    "user_product_interactions = data[['accountId', 'category', 'amount']]\n",
    "\n",
    "# Handle missing values if necessary\n",
    "user_product_interactions = user_product_interactions.fillna(0)\n"
   ]
  },
  {
   "cell_type": "code",
   "execution_count": 3,
   "metadata": {},
   "outputs": [
    {
     "name": "stdout",
     "output_type": "stream",
     "text": [
      "category        Belanja  Hadiah & Amal    Hiburan  Kesehatan  \\\n",
      "accountId                                                      \n",
      "BNI_ACC_17  605716499.0            0.0   150000.0  4445000.0   \n",
      "BNI_ACC_18  570235422.0       570000.0  5599200.0  6123210.0   \n",
      "BNI_ACC_19  212938110.0            0.0  4179000.0        0.0   \n",
      "BNI_ACC_20  226882982.0      1000000.0  9562581.0   155000.0   \n",
      "BNI_ACC_21  268270357.0            0.0  8492011.0    90000.0   \n",
      "\n",
      "category    Makanan & Minuman  Pendidikan  Perawatan Diri     Pinjaman  \\\n",
      "accountId                                                                \n",
      "BNI_ACC_17         29922000.0   7152000.0       2900000.0  430491788.0   \n",
      "BNI_ACC_18         45214067.0    900000.0       7260500.0  387075060.0   \n",
      "BNI_ACC_19         11331000.0   4970000.0       1000000.0  240196562.0   \n",
      "BNI_ACC_20          9818500.0     99000.0        470880.0   86306555.0   \n",
      "BNI_ACC_21         21285100.0         0.0       2674000.0   93542051.0   \n",
      "\n",
      "category    Tabungan & Investasi     Tagihan       Top Up  Transportasi  \\\n",
      "accountId                                                                 \n",
      "BNI_ACC_17            37000000.0  15390000.0  153200000.0    61964000.0   \n",
      "BNI_ACC_18           147334033.0   1500000.0    9400000.0     9478270.0   \n",
      "BNI_ACC_19           130039500.0    713966.0   21545239.0      495000.0   \n",
      "BNI_ACC_20           112937992.0  29000000.0    3407157.0    14502477.0   \n",
      "BNI_ACC_21            36425000.0   3565400.0    5598000.0     3400000.0   \n",
      "\n",
      "category     Uang Keluar  \n",
      "accountId                 \n",
      "BNI_ACC_17  4.267609e+09  \n",
      "BNI_ACC_18  4.459645e+09  \n",
      "BNI_ACC_19  2.707520e+09  \n",
      "BNI_ACC_20  2.709678e+09  \n",
      "BNI_ACC_21  2.256827e+09  \n"
     ]
    }
   ],
   "source": [
    "# Create a user-item matrix with interaction scores (amount)\n",
    "user_item_matrix = user_product_interactions.pivot_table(index='accountId', columns='category', values='amount', aggfunc='sum').fillna(0)\n",
    "\n",
    "# Display the matrix\n",
    "print(user_item_matrix.head())\n"
   ]
  },
  {
   "cell_type": "code",
   "execution_count": 4,
   "metadata": {},
   "outputs": [
    {
     "name": "stdout",
     "output_type": "stream",
     "text": [
      "category         Belanja  Hadiah & Amal    Hiburan     Kesehatan  \\\n",
      "accountId                                                          \n",
      "BNI_ACC_17  6.057165e+08   4.286917e-08   150000.0  4.445000e+06   \n",
      "BNI_ACC_18  5.702354e+08   5.700000e+05  5599200.0  6.123210e+06   \n",
      "BNI_ACC_19  2.129381e+08  -2.958061e-08  4179000.0 -7.256271e-09   \n",
      "BNI_ACC_20  2.268830e+08   1.000000e+06  9562581.0  1.550000e+05   \n",
      "BNI_ACC_21  2.682704e+08  -2.912884e-08  8492011.0  9.000000e+04   \n",
      "\n",
      "category    Makanan & Minuman    Pendidikan  Perawatan Diri      Pinjaman  \\\n",
      "accountId                                                                   \n",
      "BNI_ACC_17         29922000.0  7.152000e+06       2900000.0  4.304918e+08   \n",
      "BNI_ACC_18         45214067.0  9.000000e+05       7260500.0  3.870751e+08   \n",
      "BNI_ACC_19         11331000.0  4.970000e+06       1000000.0  2.401966e+08   \n",
      "BNI_ACC_20          9818500.0  9.900000e+04        470880.0  8.630655e+07   \n",
      "BNI_ACC_21         21285100.0 -6.164658e-09       2674000.0  9.354205e+07   \n",
      "\n",
      "category    Tabungan & Investasi     Tagihan       Top Up  Transportasi  \\\n",
      "accountId                                                                 \n",
      "BNI_ACC_17            37000000.0  15390000.0  153200000.0    61964000.0   \n",
      "BNI_ACC_18           147334033.0   1500000.0    9400000.0     9478270.0   \n",
      "BNI_ACC_19           130039500.0    713966.0   21545239.0      495000.0   \n",
      "BNI_ACC_20           112937992.0  29000000.0    3407157.0    14502477.0   \n",
      "BNI_ACC_21            36425000.0   3565400.0    5598000.0     3400000.0   \n",
      "\n",
      "category     Uang Keluar  \n",
      "accountId                 \n",
      "BNI_ACC_17  4.267609e+09  \n",
      "BNI_ACC_18  4.459645e+09  \n",
      "BNI_ACC_19  2.707520e+09  \n",
      "BNI_ACC_20  2.709678e+09  \n",
      "BNI_ACC_21  2.256827e+09  \n"
     ]
    }
   ],
   "source": [
    "from sklearn.decomposition import TruncatedSVD\n",
    "import numpy as np\n",
    "\n",
    "# Apply SVD to the user-item matrix\n",
    "svd = TruncatedSVD(n_components=13)\n",
    "user_factors = svd.fit_transform(user_item_matrix)\n",
    "item_factors = svd.components_.T\n",
    "\n",
    "# Calculate the predicted interaction matrix\n",
    "predicted_matrix = np.dot(user_factors, item_factors.T)\n",
    "\n",
    "# Convert the predicted matrix back to a DataFrame for easier use\n",
    "predicted_df = pd.DataFrame(predicted_matrix, index=user_item_matrix.index, columns=user_item_matrix.columns)\n",
    "print(predicted_df.head())\n"
   ]
  },
  {
   "cell_type": "code",
   "execution_count": 5,
   "metadata": {},
   "outputs": [
    {
     "name": "stdout",
     "output_type": "stream",
     "text": [
      "1102    Uang Keluar\n",
      "0       Uang Keluar\n",
      "1       Uang Keluar\n",
      "2           Belanja\n",
      "3       Uang Keluar\n",
      "Name: category, dtype: object\n"
     ]
    }
   ],
   "source": [
    "from sklearn.feature_extraction.text import TfidfVectorizer\n",
    "from sklearn.metrics.pairwise import cosine_similarity\n",
    "\n",
    "# Create TF-IDF features from the 'desc_processed' column\n",
    "vectorizer = TfidfVectorizer(stop_words='english')\n",
    "product_features = vectorizer.fit_transform(data['desc_processed'])\n",
    "\n",
    "# Calculate the cosine similarity between products\n",
    "cosine_sim = cosine_similarity(product_features)\n",
    "\n",
    "# Create a function to recommend products\n",
    "def recommend_products(product_ids, cosine_sim=cosine_sim):\n",
    "    sim_scores = list(enumerate(cosine_sim[product_ids]))\n",
    "    sim_scores = sorted(sim_scores, key=lambda x: x[1], reverse=True)\n",
    "    sim_scores = sim_scores[1:6]\n",
    "    recommended_product_indices = [i[0] for i in sim_scores]\n",
    "    return data['category'].iloc[recommended_product_indices]\n",
    "\n",
    "# Example: Recommend products similar to a given product\n",
    "recommended_products = recommend_products(product_ids=10)\n",
    "print(recommended_products)\n"
   ]
  },
  {
   "cell_type": "code",
   "execution_count": 6,
   "metadata": {},
   "outputs": [
    {
     "name": "stdout",
     "output_type": "stream",
     "text": [
      "MSE: 3.846820360681137e-13\n"
     ]
    }
   ],
   "source": [
    "from sklearn.metrics import mean_squared_error\n",
    "\n",
    "# Evaluate the model using Mean Squared Error\n",
    "mse = mean_squared_error(user_item_matrix.values, predicted_matrix)\n",
    "print(f'MSE: {mse}')\n"
   ]
  },
  {
   "cell_type": "code",
   "execution_count": null,
   "metadata": {},
   "outputs": [],
   "source": []
  }
 ],
 "metadata": {
  "kernelspec": {
   "display_name": "testEnv",
   "language": "python",
   "name": "python3"
  },
  "language_info": {
   "codemirror_mode": {
    "name": "ipython",
    "version": 3
   },
   "file_extension": ".py",
   "mimetype": "text/x-python",
   "name": "python",
   "nbconvert_exporter": "python",
   "pygments_lexer": "ipython3",
   "version": "3.10.14"
  }
 },
 "nbformat": 4,
 "nbformat_minor": 2
}
